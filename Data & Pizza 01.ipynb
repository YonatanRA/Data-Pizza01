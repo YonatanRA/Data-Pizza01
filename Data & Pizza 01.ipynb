{
 "cells": [
  {
   "cell_type": "markdown",
   "id": "7289e377",
   "metadata": {},
   "source": [
    "# Data & Pizza 01\n",
    "\n",
    "![datapizza](images/head_data_pizza.png)"
   ]
  },
  {
   "cell_type": "code",
   "execution_count": null,
   "id": "81df0d22",
   "metadata": {},
   "outputs": [],
   "source": [
    "!pip install exif\n",
    "!pip install reverse_geocoder\n",
    "!pip install pycountry"
   ]
  },
  {
   "cell_type": "markdown",
   "id": "2b7ff265",
   "metadata": {},
   "source": [
    "# Foto"
   ]
  },
  {
   "cell_type": "code",
   "execution_count": 1,
   "id": "3adfc3a7",
   "metadata": {},
   "outputs": [],
   "source": [
    "foto='images/prueba.jpg'"
   ]
  },
  {
   "cell_type": "code",
   "execution_count": 2,
   "id": "baab98e4",
   "metadata": {},
   "outputs": [],
   "source": [
    "from IPython.display import Image"
   ]
  },
  {
   "cell_type": "code",
   "execution_count": 4,
   "id": "6b50a68a",
   "metadata": {},
   "outputs": [
    {
     "data": {
      "text/html": [
       "<img src=\"images/prueba.jpg\" width=\"300\"/>"
      ],
      "text/plain": [
       "<IPython.core.display.Image object>"
      ]
     },
     "execution_count": 4,
     "metadata": {},
     "output_type": "execute_result"
    }
   ],
   "source": [
    "Image(url=foto, width=300)"
   ]
  },
  {
   "cell_type": "markdown",
   "id": "8f706ece",
   "metadata": {},
   "source": [
    "# Exif"
   ]
  },
  {
   "cell_type": "code",
   "execution_count": 6,
   "id": "6ac77a9c",
   "metadata": {},
   "outputs": [],
   "source": [
    "import warnings\n",
    "warnings.simplefilter('ignore')\n",
    "\n",
    "from exif import Image"
   ]
  },
  {
   "cell_type": "code",
   "execution_count": 7,
   "id": "bebe1940",
   "metadata": {},
   "outputs": [],
   "source": [
    "imagen=Image(foto)"
   ]
  },
  {
   "cell_type": "code",
   "execution_count": 8,
   "id": "2a7907d3",
   "metadata": {},
   "outputs": [
    {
     "data": {
      "text/plain": [
       "True"
      ]
     },
     "execution_count": 8,
     "metadata": {},
     "output_type": "execute_result"
    }
   ],
   "source": [
    "# tiene exif?\n",
    "\n",
    "imagen.has_exif"
   ]
  },
  {
   "cell_type": "markdown",
   "id": "31e4ba00",
   "metadata": {},
   "source": [
    "# Desde whatsapp "
   ]
  },
  {
   "cell_type": "code",
   "execution_count": 9,
   "id": "f23d06b8",
   "metadata": {},
   "outputs": [],
   "source": [
    "foto_was='images/prueba_2.jpeg'"
   ]
  },
  {
   "cell_type": "code",
   "execution_count": 10,
   "id": "26d211bf",
   "metadata": {},
   "outputs": [],
   "source": [
    "imagen_was=Image(foto_was)"
   ]
  },
  {
   "cell_type": "code",
   "execution_count": 11,
   "id": "78eed129",
   "metadata": {},
   "outputs": [
    {
     "data": {
      "text/plain": [
       "False"
      ]
     },
     "execution_count": 11,
     "metadata": {},
     "output_type": "execute_result"
    }
   ],
   "source": [
    "# tiene exif?\n",
    "\n",
    "imagen_was.has_exif"
   ]
  },
  {
   "cell_type": "markdown",
   "id": "4eef11b8",
   "metadata": {},
   "source": [
    "# Listado de datos"
   ]
  },
  {
   "cell_type": "code",
   "execution_count": 13,
   "id": "c632dc31",
   "metadata": {},
   "outputs": [
    {
     "data": {
      "text/plain": [
       "['make',\n",
       " 'model',\n",
       " 'orientation',\n",
       " 'x_resolution',\n",
       " 'y_resolution',\n",
       " 'resolution_unit',\n",
       " 'software',\n",
       " 'datetime',\n",
       " 'subsampling_ratio_of_y_to_c',\n",
       " 'y_and_c_positioning']"
      ]
     },
     "execution_count": 13,
     "metadata": {},
     "output_type": "execute_result"
    }
   ],
   "source": [
    "imagen.list_all()[:10]"
   ]
  },
  {
   "cell_type": "markdown",
   "id": "317fda14",
   "metadata": {},
   "source": [
    "# Datos de la foto"
   ]
  },
  {
   "cell_type": "code",
   "execution_count": 14,
   "id": "a2131231",
   "metadata": {},
   "outputs": [
    {
     "data": {
      "text/plain": [
       "(72.0, 72.0)"
      ]
     },
     "execution_count": 14,
     "metadata": {},
     "output_type": "execute_result"
    }
   ],
   "source": [
    "# resolucion\n",
    "\n",
    "imagen.x_resolution, imagen.y_resolution"
   ]
  },
  {
   "cell_type": "code",
   "execution_count": 15,
   "id": "b47da25f",
   "metadata": {},
   "outputs": [
    {
     "data": {
      "text/plain": [
       "(4128, 3096)"
      ]
     },
     "execution_count": 15,
     "metadata": {},
     "output_type": "execute_result"
    }
   ],
   "source": [
    "# en pixeles\n",
    "\n",
    "imagen.pixel_x_dimension, imagen.pixel_y_dimension"
   ]
  },
  {
   "cell_type": "code",
   "execution_count": 16,
   "id": "7bd50a0e",
   "metadata": {},
   "outputs": [
    {
     "data": {
      "text/plain": [
       "0.04"
      ]
     },
     "execution_count": 16,
     "metadata": {},
     "output_type": "execute_result"
    }
   ],
   "source": [
    "# tiempo de exposicion\n",
    "\n",
    "imagen.exposure_time"
   ]
  },
  {
   "cell_type": "code",
   "execution_count": 17,
   "id": "e8beb39b",
   "metadata": {},
   "outputs": [
    {
     "data": {
      "text/plain": [
       "1.9"
      ]
     },
     "execution_count": 17,
     "metadata": {},
     "output_type": "execute_result"
    }
   ],
   "source": [
    "# numero F\n",
    "\n",
    "imagen.f_number"
   ]
  },
  {
   "cell_type": "code",
   "execution_count": 18,
   "id": "482442ae",
   "metadata": {},
   "outputs": [
    {
     "data": {
      "text/plain": [
       "3.6"
      ]
     },
     "execution_count": 18,
     "metadata": {},
     "output_type": "execute_result"
    }
   ],
   "source": [
    "# distancia focal\n",
    "\n",
    "imagen.focal_length"
   ]
  },
  {
   "cell_type": "code",
   "execution_count": 19,
   "id": "505a7b4b",
   "metadata": {},
   "outputs": [
    {
     "data": {
      "text/plain": [
       "27"
      ]
     },
     "execution_count": 19,
     "metadata": {},
     "output_type": "execute_result"
    }
   ],
   "source": [
    "# distancia focal en una pelicula de 35mm\n",
    "\n",
    "imagen.focal_length_in_35mm_film"
   ]
  },
  {
   "cell_type": "code",
   "execution_count": 20,
   "id": "5a4ae059",
   "metadata": {},
   "outputs": [
    {
     "data": {
      "text/plain": [
       "1.85"
      ]
     },
     "execution_count": 20,
     "metadata": {},
     "output_type": "execute_result"
    }
   ],
   "source": [
    "# apertura\n",
    "\n",
    "imagen.aperture_value"
   ]
  },
  {
   "cell_type": "code",
   "execution_count": 21,
   "id": "3207fa1c",
   "metadata": {},
   "outputs": [
    {
     "data": {
      "text/plain": [
       "-0.79"
      ]
     },
     "execution_count": 21,
     "metadata": {},
     "output_type": "execute_result"
    }
   ],
   "source": [
    "# brillo\n",
    "\n",
    "imagen.brightness_value"
   ]
  },
  {
   "cell_type": "code",
   "execution_count": 22,
   "id": "89bafb61",
   "metadata": {},
   "outputs": [
    {
     "data": {
      "text/plain": [
       "366"
      ]
     },
     "execution_count": 22,
     "metadata": {},
     "output_type": "execute_result"
    }
   ],
   "source": [
    "# sensibilidad\n",
    "\n",
    "imagen.photographic_sensitivity"
   ]
  },
  {
   "cell_type": "code",
   "execution_count": 23,
   "id": "17e7fb58",
   "metadata": {},
   "outputs": [
    {
     "data": {
      "text/plain": [
       "0"
      ]
     },
     "execution_count": 23,
     "metadata": {},
     "output_type": "execute_result"
    }
   ],
   "source": [
    "# contraste\n",
    "\n",
    "imagen.contrast"
   ]
  },
  {
   "cell_type": "code",
   "execution_count": 24,
   "id": "eed76d25",
   "metadata": {},
   "outputs": [
    {
     "data": {
      "text/plain": [
       "4.64"
      ]
     },
     "execution_count": 24,
     "metadata": {},
     "output_type": "execute_result"
    }
   ],
   "source": [
    "# velocidad obturador\n",
    "\n",
    "imagen.shutter_speed_value"
   ]
  },
  {
   "cell_type": "code",
   "execution_count": 25,
   "id": "81ddb279",
   "metadata": {},
   "outputs": [
    {
     "data": {
      "text/plain": [
       "'2022:02:11 18:47:51'"
      ]
     },
     "execution_count": 25,
     "metadata": {},
     "output_type": "execute_result"
    }
   ],
   "source": [
    "# fecha\n",
    "\n",
    "imagen.datetime"
   ]
  },
  {
   "cell_type": "code",
   "execution_count": 26,
   "id": "b8457c8e",
   "metadata": {},
   "outputs": [
    {
     "data": {
      "text/plain": [
       "'+01:00'"
      ]
     },
     "execution_count": 26,
     "metadata": {},
     "output_type": "execute_result"
    }
   ],
   "source": [
    "# zona horaria\n",
    "\n",
    "imagen.offset_time"
   ]
  },
  {
   "cell_type": "markdown",
   "id": "74ed284c",
   "metadata": {},
   "source": [
    "# Mi teléfono móvil"
   ]
  },
  {
   "cell_type": "code",
   "execution_count": 27,
   "id": "548edf81",
   "metadata": {},
   "outputs": [
    {
     "data": {
      "text/plain": [
       "'samsung'"
      ]
     },
     "execution_count": 27,
     "metadata": {},
     "output_type": "execute_result"
    }
   ],
   "source": [
    "# marca\n",
    "imagen.make"
   ]
  },
  {
   "cell_type": "code",
   "execution_count": 28,
   "id": "7bba574f",
   "metadata": {},
   "outputs": [
    {
     "data": {
      "text/plain": [
       "'SM-A202F'"
      ]
     },
     "execution_count": 28,
     "metadata": {},
     "output_type": "execute_result"
    }
   ],
   "source": [
    "# modelo\n",
    "\n",
    "imagen.model"
   ]
  },
  {
   "cell_type": "code",
   "execution_count": 29,
   "id": "1fce725a",
   "metadata": {},
   "outputs": [
    {
     "data": {
      "text/plain": [
       "'A202FXXU3CUJ2'"
      ]
     },
     "execution_count": 29,
     "metadata": {},
     "output_type": "execute_result"
    }
   ],
   "source": [
    "# version de software\n",
    "\n",
    "imagen.software"
   ]
  },
  {
   "cell_type": "markdown",
   "id": "2115526f",
   "metadata": {},
   "source": [
    "# Geolocalización"
   ]
  },
  {
   "cell_type": "code",
   "execution_count": 30,
   "id": "e67a0b3a",
   "metadata": {},
   "outputs": [
    {
     "data": {
      "text/plain": [
       "((40.0, 23.0, 32.43948), 'N')"
      ]
     },
     "execution_count": 30,
     "metadata": {},
     "output_type": "execute_result"
    }
   ],
   "source": [
    "# latitud gms\n",
    "\n",
    "imagen.gps_latitude, imagen.gps_latitude_ref"
   ]
  },
  {
   "cell_type": "code",
   "execution_count": 31,
   "id": "5a81ea48",
   "metadata": {},
   "outputs": [
    {
     "data": {
      "text/plain": [
       "((3.0, 41.0, 54.34332), 'W')"
      ]
     },
     "execution_count": 31,
     "metadata": {},
     "output_type": "execute_result"
    }
   ],
   "source": [
    "# longitud gms\n",
    "\n",
    "imagen.gps_longitude, imagen.gps_longitude_ref"
   ]
  },
  {
   "cell_type": "code",
   "execution_count": 32,
   "id": "02b3aff0",
   "metadata": {},
   "outputs": [
    {
     "data": {
      "text/plain": [
       "622.0"
      ]
     },
     "execution_count": 32,
     "metadata": {},
     "output_type": "execute_result"
    }
   ],
   "source": [
    "# altura\n",
    "\n",
    "imagen.gps_altitude"
   ]
  },
  {
   "cell_type": "code",
   "execution_count": 33,
   "id": "557d7497",
   "metadata": {},
   "outputs": [],
   "source": [
    "# formato coordenadas grado-minuto-segundo\n",
    "\n",
    "def gms_coordenadas(coor, ref):\n",
    "    return f\"{coor[0]}° {coor[1]}' {coor[2]}'' {ref}\""
   ]
  },
  {
   "cell_type": "code",
   "execution_count": 34,
   "id": "8f2666d9",
   "metadata": {},
   "outputs": [
    {
     "data": {
      "text/plain": [
       "\"40.0° 23.0' 32.43948'' N\""
      ]
     },
     "execution_count": 34,
     "metadata": {},
     "output_type": "execute_result"
    }
   ],
   "source": [
    "gms_coordenadas(imagen.gps_latitude, imagen.gps_latitude_ref)"
   ]
  },
  {
   "cell_type": "code",
   "execution_count": 35,
   "id": "256277ec",
   "metadata": {},
   "outputs": [
    {
     "data": {
      "text/plain": [
       "\"3.0° 41.0' 54.34332'' W\""
      ]
     },
     "execution_count": 35,
     "metadata": {},
     "output_type": "execute_result"
    }
   ],
   "source": [
    "gms_coordenadas(imagen.gps_longitude, imagen.gps_longitude_ref)"
   ]
  },
  {
   "cell_type": "code",
   "execution_count": 36,
   "id": "bb1e4c30",
   "metadata": {},
   "outputs": [],
   "source": [
    "# cambio de coordenadas gms a decimal\n",
    "\n",
    "def gms_a_decimal(coor, ref):\n",
    "    \n",
    "    decimal=coor[0] + coor[1]/60 + coor[2]/3600\n",
    "    \n",
    "    if ref == 'S' or ref =='W':\n",
    "        decimal=-decimal\n",
    "        \n",
    "    return decimal"
   ]
  },
  {
   "cell_type": "code",
   "execution_count": 37,
   "id": "a75b864b",
   "metadata": {},
   "outputs": [
    {
     "data": {
      "text/plain": [
       "40.3923443"
      ]
     },
     "execution_count": 37,
     "metadata": {},
     "output_type": "execute_result"
    }
   ],
   "source": [
    "latitud=gms_a_decimal(imagen.gps_latitude, imagen.gps_latitude_ref)\n",
    "\n",
    "latitud"
   ]
  },
  {
   "cell_type": "code",
   "execution_count": 38,
   "id": "6b99c29f",
   "metadata": {},
   "outputs": [
    {
     "data": {
      "text/plain": [
       "-3.6984287000000005"
      ]
     },
     "execution_count": 38,
     "metadata": {},
     "output_type": "execute_result"
    }
   ],
   "source": [
    "longitud=gms_a_decimal(imagen.gps_longitude, imagen.gps_longitude_ref)\n",
    "\n",
    "longitud"
   ]
  },
  {
   "cell_type": "code",
   "execution_count": 39,
   "id": "82e45c2a",
   "metadata": {},
   "outputs": [],
   "source": [
    "import reverse_geocoder as rg\n",
    "import pycountry"
   ]
  },
  {
   "cell_type": "code",
   "execution_count": 40,
   "id": "10699a8e",
   "metadata": {},
   "outputs": [
    {
     "name": "stdout",
     "output_type": "stream",
     "text": [
      "Loading formatted geocoded file...\n"
     ]
    },
    {
     "data": {
      "text/plain": [
       "{'lat': '40.38866',\n",
       " 'lon': '-3.70035',\n",
       " 'name': 'Usera',\n",
       " 'admin1': 'Madrid',\n",
       " 'admin2': 'Provincia de Madrid',\n",
       " 'cc': 'ES',\n",
       " 'pais': Country(alpha_2='ES', alpha_3='ESP', flag='🇪🇸', name='Spain', numeric='724', official_name='Kingdom of Spain')}"
      ]
     },
     "execution_count": 40,
     "metadata": {},
     "output_type": "execute_result"
    }
   ],
   "source": [
    "localizacion=rg.search((latitud, longitud))[0]\n",
    "\n",
    "localizacion['pais']=pycountry.countries.get(alpha_2=localizacion['cc'])\n",
    "\n",
    "localizacion"
   ]
  },
  {
   "cell_type": "code",
   "execution_count": 41,
   "id": "bf190fa9",
   "metadata": {},
   "outputs": [
    {
     "data": {
      "text/plain": [
       "(48.0, 'M')"
      ]
     },
     "execution_count": 41,
     "metadata": {},
     "output_type": "execute_result"
    }
   ],
   "source": [
    "imagen.gps_img_direction, imagen.gps_img_direction_ref"
   ]
  },
  {
   "cell_type": "code",
   "execution_count": 44,
   "id": "7ba8ae01",
   "metadata": {},
   "outputs": [],
   "source": [
    "def grados_a_direccion(grados):\n",
    "    \n",
    "    DIRECCIONES = ['N', 'NNE', 'NE', 'ENE', \n",
    "                   'E', 'ESE', 'SE', 'SSE', \n",
    "                   'S', 'SSO', 'SO', 'OSO', \n",
    "                   'O', 'ONO', 'NO', 'NNW']\n",
    "    \n",
    "    N=len(DIRECCIONES)\n",
    "    \n",
    "    arco=360/N\n",
    "    \n",
    "    return DIRECCIONES[int(grados/arco)%N]"
   ]
  },
  {
   "cell_type": "code",
   "execution_count": 45,
   "id": "e4bd36f8",
   "metadata": {},
   "outputs": [
    {
     "data": {
      "text/plain": [
       "'Direccion: NE (48.0°)'"
      ]
     },
     "execution_count": 45,
     "metadata": {},
     "output_type": "execute_result"
    }
   ],
   "source": [
    "f'Direccion: {grados_a_direccion(imagen.gps_img_direction)} ({imagen.gps_img_direction}°)'"
   ]
  },
  {
   "cell_type": "markdown",
   "id": "e6039380",
   "metadata": {},
   "source": [
    "# Mapa"
   ]
  },
  {
   "cell_type": "code",
   "execution_count": 47,
   "id": "f5528213",
   "metadata": {},
   "outputs": [],
   "source": [
    "import webbrowser"
   ]
  },
  {
   "cell_type": "code",
   "execution_count": 48,
   "id": "41267d74",
   "metadata": {},
   "outputs": [],
   "source": [
    "URL='https://www.google.com/maps?q='"
   ]
  },
  {
   "cell_type": "code",
   "execution_count": 49,
   "id": "f1371d7c",
   "metadata": {},
   "outputs": [
    {
     "data": {
      "text/plain": [
       "True"
      ]
     },
     "execution_count": 49,
     "metadata": {},
     "output_type": "execute_result"
    }
   ],
   "source": [
    "webbrowser.open_new_tab(URL)"
   ]
  },
  {
   "cell_type": "code",
   "execution_count": 50,
   "id": "e566fe15",
   "metadata": {},
   "outputs": [
    {
     "data": {
      "text/plain": [
       "True"
      ]
     },
     "execution_count": 50,
     "metadata": {},
     "output_type": "execute_result"
    }
   ],
   "source": [
    "webbrowser.open_new_tab(URL + str(latitud)+ ','+str(longitud))"
   ]
  },
  {
   "cell_type": "markdown",
   "id": "7ca624d4",
   "metadata": {},
   "source": [
    "<img src=\"images/feed_qr.png\" alt=\"drawing\" width=\"350\"/>"
   ]
  }
 ],
 "metadata": {
  "finalized": {
   "timestamp": 1644582490158,
   "trusted": false
  },
  "kernelspec": {
   "display_name": "clase",
   "language": "python",
   "name": "clase"
  },
  "language_info": {
   "codemirror_mode": {
    "name": "ipython",
    "version": 3
   },
   "file_extension": ".py",
   "mimetype": "text/x-python",
   "name": "python",
   "nbconvert_exporter": "python",
   "pygments_lexer": "ipython3",
   "version": "3.8.8"
  }
 },
 "nbformat": 4,
 "nbformat_minor": 5
}
