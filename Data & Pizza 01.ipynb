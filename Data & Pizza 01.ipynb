{
 "cells": [
  {
   "cell_type": "markdown",
   "id": "7289e377",
   "metadata": {},
   "source": [
    "# Data & Pizza 01\n",
    "\n",
    "![datapizza](images/head_data_pizza.png)"
   ]
  },
  {
   "cell_type": "code",
   "execution_count": null,
   "id": "81df0d22",
   "metadata": {},
   "outputs": [],
   "source": [
    "!pip install exif\n",
    "!pip install reverse_geocoder\n",
    "!pip install pycountry"
   ]
  },
  {
   "cell_type": "markdown",
   "id": "2b7ff265",
   "metadata": {},
   "source": [
    "# Foto"
   ]
  },
  {
   "cell_type": "code",
   "execution_count": null,
   "id": "3adfc3a7",
   "metadata": {},
   "outputs": [],
   "source": [
    "foto='images/prueba_2.jpg'"
   ]
  },
  {
   "cell_type": "code",
   "execution_count": null,
   "id": "baab98e4",
   "metadata": {},
   "outputs": [],
   "source": [
    "from IPython.display import Image"
   ]
  },
  {
   "cell_type": "code",
   "execution_count": null,
   "id": "6b50a68a",
   "metadata": {},
   "outputs": [],
   "source": [
    "# muestra la imagen\n",
    "\n",
    "Image(url=foto, width=300)"
   ]
  },
  {
   "cell_type": "markdown",
   "id": "8f706ece",
   "metadata": {},
   "source": [
    "# Exif"
   ]
  },
  {
   "cell_type": "code",
   "execution_count": null,
   "id": "6ac77a9c",
   "metadata": {},
   "outputs": [],
   "source": [
    "import warnings\n",
    "warnings.simplefilter('ignore')\n",
    "\n",
    "from exif import Image"
   ]
  },
  {
   "cell_type": "code",
   "execution_count": null,
   "id": "bebe1940",
   "metadata": {},
   "outputs": [],
   "source": [
    "imagen=Image(foto)"
   ]
  },
  {
   "cell_type": "code",
   "execution_count": null,
   "id": "2a7907d3",
   "metadata": {},
   "outputs": [],
   "source": [
    "# ¿tiene EXIF?\n",
    "\n",
    "imagen.has_exif"
   ]
  },
  {
   "cell_type": "markdown",
   "id": "4eef11b8",
   "metadata": {},
   "source": [
    "# Listado de datos"
   ]
  },
  {
   "cell_type": "code",
   "execution_count": null,
   "id": "c632dc31",
   "metadata": {},
   "outputs": [],
   "source": [
    "imagen.list_all()[:10]"
   ]
  },
  {
   "cell_type": "markdown",
   "id": "317fda14",
   "metadata": {},
   "source": [
    "# Datos de la foto"
   ]
  },
  {
   "cell_type": "code",
   "execution_count": null,
   "id": "a2131231",
   "metadata": {},
   "outputs": [],
   "source": [
    "# resolucion\n",
    "\n",
    "imagen.x_resolution, imagen.y_resolution"
   ]
  },
  {
   "cell_type": "code",
   "execution_count": null,
   "id": "b47da25f",
   "metadata": {},
   "outputs": [],
   "source": [
    "# en pixeles\n",
    "\n",
    "imagen.pixel_x_dimension, imagen.pixel_y_dimension"
   ]
  },
  {
   "cell_type": "code",
   "execution_count": null,
   "id": "7bd50a0e",
   "metadata": {},
   "outputs": [],
   "source": [
    "# tiempo de exposicion\n",
    "\n",
    "imagen.exposure_time"
   ]
  },
  {
   "cell_type": "code",
   "execution_count": null,
   "id": "e8beb39b",
   "metadata": {},
   "outputs": [],
   "source": [
    "# numero F, expresa el diámetro de la apertura de un objetivo en función de su distancia focal F\n",
    "\n",
    "imagen.f_number"
   ]
  },
  {
   "cell_type": "code",
   "execution_count": null,
   "id": "482442ae",
   "metadata": {},
   "outputs": [],
   "source": [
    "# distancia focal\n",
    "\n",
    "imagen.focal_length"
   ]
  },
  {
   "cell_type": "code",
   "execution_count": null,
   "id": "505a7b4b",
   "metadata": {},
   "outputs": [],
   "source": [
    "# distancia focal en una pelicula de 35mm\n",
    "\n",
    "imagen.focal_length_in_35mm_film"
   ]
  },
  {
   "cell_type": "code",
   "execution_count": null,
   "id": "5a4ae059",
   "metadata": {},
   "outputs": [],
   "source": [
    "# apertura\n",
    "\n",
    "imagen.aperture_value"
   ]
  },
  {
   "cell_type": "code",
   "execution_count": null,
   "id": "3207fa1c",
   "metadata": {},
   "outputs": [],
   "source": [
    "# brillo\n",
    "\n",
    "imagen.brightness_value"
   ]
  },
  {
   "cell_type": "code",
   "execution_count": null,
   "id": "89bafb61",
   "metadata": {},
   "outputs": [],
   "source": [
    "# sensibilidad\n",
    "\n",
    "imagen.photographic_sensitivity"
   ]
  },
  {
   "cell_type": "code",
   "execution_count": null,
   "id": "17e7fb58",
   "metadata": {},
   "outputs": [],
   "source": [
    "# contraste\n",
    "\n",
    "imagen.contrast"
   ]
  },
  {
   "cell_type": "code",
   "execution_count": null,
   "id": "eed76d25",
   "metadata": {},
   "outputs": [],
   "source": [
    "# velocidad obturador\n",
    "\n",
    "imagen.shutter_speed_value"
   ]
  },
  {
   "cell_type": "code",
   "execution_count": null,
   "id": "81ddb279",
   "metadata": {},
   "outputs": [],
   "source": [
    "# fecha\n",
    "\n",
    "imagen.datetime"
   ]
  },
  {
   "cell_type": "code",
   "execution_count": null,
   "id": "b8457c8e",
   "metadata": {},
   "outputs": [],
   "source": [
    "# zona horaria\n",
    "\n",
    "imagen.offset_time"
   ]
  },
  {
   "cell_type": "markdown",
   "id": "74ed284c",
   "metadata": {},
   "source": [
    "# Mi teléfono móvil"
   ]
  },
  {
   "cell_type": "code",
   "execution_count": null,
   "id": "548edf81",
   "metadata": {},
   "outputs": [],
   "source": [
    "# marca\n",
    "\n",
    "imagen.make"
   ]
  },
  {
   "cell_type": "code",
   "execution_count": null,
   "id": "7bba574f",
   "metadata": {},
   "outputs": [],
   "source": [
    "# modelo\n",
    "\n",
    "imagen.model"
   ]
  },
  {
   "cell_type": "code",
   "execution_count": null,
   "id": "1fce725a",
   "metadata": {},
   "outputs": [],
   "source": [
    "# versión de software\n",
    "\n",
    "imagen.software"
   ]
  },
  {
   "cell_type": "markdown",
   "id": "2115526f",
   "metadata": {},
   "source": [
    "# Geolocalización"
   ]
  },
  {
   "cell_type": "code",
   "execution_count": null,
   "id": "e67a0b3a",
   "metadata": {},
   "outputs": [],
   "source": [
    "# latitud , º,m,s\n",
    "\n",
    "imagen.gps_latitude, imagen.gps_latitude_ref"
   ]
  },
  {
   "cell_type": "code",
   "execution_count": null,
   "id": "5a81ea48",
   "metadata": {},
   "outputs": [],
   "source": [
    "# longitud\n",
    "\n",
    "imagen.gps_longitude, imagen.gps_longitude_ref"
   ]
  },
  {
   "cell_type": "code",
   "execution_count": null,
   "id": "02b3aff0",
   "metadata": {},
   "outputs": [],
   "source": [
    "# altura\n",
    "\n",
    "imagen.gps_altitude"
   ]
  },
  {
   "cell_type": "code",
   "execution_count": null,
   "id": "557d7497",
   "metadata": {},
   "outputs": [],
   "source": [
    "# formato coordenadas grado-minuto-segundo\n",
    "\n",
    "def gms_coordenadas(coor, ref):\n",
    "    return f\"{coor[0]}° {coor[1]}' {coor[2]}'' {ref}\""
   ]
  },
  {
   "cell_type": "code",
   "execution_count": null,
   "id": "8f2666d9",
   "metadata": {},
   "outputs": [],
   "source": [
    "gms_coordenadas(imagen.gps_latitude, imagen.gps_latitude_ref)"
   ]
  },
  {
   "cell_type": "code",
   "execution_count": null,
   "id": "256277ec",
   "metadata": {},
   "outputs": [],
   "source": [
    "gms_coordenadas(imagen.gps_longitude, imagen.gps_longitude_ref)"
   ]
  },
  {
   "cell_type": "code",
   "execution_count": null,
   "id": "bb1e4c30",
   "metadata": {},
   "outputs": [],
   "source": [
    "# cambio de coordenadas gms a decimal\n",
    "\n",
    "def gms_a_decimal(coor, ref):\n",
    "    \n",
    "    decimal=coor[0] + coor[1] / 60 + coor[2] / 3600\n",
    "    \n",
    "    if ref == 'S' or ref == 'W':\n",
    "        decimal = -decimal\n",
    "    \n",
    "    return decimal"
   ]
  },
  {
   "cell_type": "code",
   "execution_count": null,
   "id": "a75b864b",
   "metadata": {},
   "outputs": [],
   "source": [
    "latitud=gms_a_decimal(imagen.gps_latitude, imagen.gps_latitude_ref)\n",
    "\n",
    "latitud"
   ]
  },
  {
   "cell_type": "code",
   "execution_count": null,
   "id": "6b99c29f",
   "metadata": {},
   "outputs": [],
   "source": [
    "longitud=gms_a_decimal(imagen.gps_longitude, imagen.gps_longitude_ref)\n",
    "\n",
    "longitud"
   ]
  },
  {
   "cell_type": "code",
   "execution_count": null,
   "id": "82e45c2a",
   "metadata": {},
   "outputs": [],
   "source": [
    "import reverse_geocoder as rg\n",
    "import pycountry"
   ]
  },
  {
   "cell_type": "code",
   "execution_count": null,
   "id": "10699a8e",
   "metadata": {},
   "outputs": [],
   "source": [
    "localizacion=rg.search((latitud, longitud))[0]\n",
    "\n",
    "localizacion['pais']=pycountry.countries.get(alpha_2=localizacion['cc'])\n",
    "\n",
    "localizacion"
   ]
  },
  {
   "cell_type": "code",
   "execution_count": null,
   "id": "bf190fa9",
   "metadata": {},
   "outputs": [],
   "source": [
    "imagen.gps_img_direction, imagen.gps_img_direction_ref"
   ]
  },
  {
   "cell_type": "code",
   "execution_count": null,
   "id": "7ba8ae01",
   "metadata": {},
   "outputs": [],
   "source": [
    "def grados_a_direccion(grados):\n",
    "    DIRECCIONES = ['N', 'NNE', 'NE', 'ENE', \n",
    "                   'E', 'ESE', 'SE', 'SSE', \n",
    "                   'S', 'SSO', 'SO', 'OSO', \n",
    "                   'O', 'ONO', 'NO', 'NNW']\n",
    "        \n",
    "    \n",
    "    N = len(DIRECCIONES)\n",
    "    \n",
    "    arco = 360 / N\n",
    "    \n",
    "    return DIRECCIONES[int(grados / arco) % N]"
   ]
  },
  {
   "cell_type": "code",
   "execution_count": null,
   "id": "e4bd36f8",
   "metadata": {},
   "outputs": [],
   "source": [
    "f'Direccion: {grados_a_direccion(imagen.gps_img_direction)} ({imagen.gps_img_direction}°)'"
   ]
  },
  {
   "cell_type": "markdown",
   "id": "e6039380",
   "metadata": {},
   "source": [
    "# Mapa"
   ]
  },
  {
   "cell_type": "code",
   "execution_count": null,
   "id": "f5528213",
   "metadata": {},
   "outputs": [],
   "source": [
    "import webbrowser"
   ]
  },
  {
   "cell_type": "code",
   "execution_count": null,
   "id": "41267d74",
   "metadata": {},
   "outputs": [],
   "source": [
    "URL='https://www.google.com/maps?q='"
   ]
  },
  {
   "cell_type": "code",
   "execution_count": null,
   "id": "f1371d7c",
   "metadata": {},
   "outputs": [],
   "source": [
    "webbrowser.open_new_tab(URL)"
   ]
  },
  {
   "cell_type": "code",
   "execution_count": null,
   "id": "e566fe15",
   "metadata": {},
   "outputs": [],
   "source": [
    "webbrowser.open_new_tab(URL + str(latitud) + ',' + str(longitud))"
   ]
  },
  {
   "cell_type": "markdown",
   "id": "31e4ba00",
   "metadata": {},
   "source": [
    "# Desde whatsapp "
   ]
  },
  {
   "cell_type": "code",
   "execution_count": null,
   "id": "b41661d6",
   "metadata": {},
   "outputs": [],
   "source": [
    "foto_whats='images/prueba_whats.jpg'"
   ]
  },
  {
   "cell_type": "code",
   "execution_count": null,
   "id": "52012d4f",
   "metadata": {},
   "outputs": [],
   "source": [
    "imagen_whats=Image(foto_whats)"
   ]
  },
  {
   "cell_type": "code",
   "execution_count": null,
   "id": "98f1c073",
   "metadata": {},
   "outputs": [],
   "source": [
    "# ¿tiene EXIF?\n",
    "\n",
    "imagen_whats.has_exif"
   ]
  },
  {
   "cell_type": "code",
   "execution_count": null,
   "id": "a50087ad",
   "metadata": {},
   "outputs": [],
   "source": []
  }
 ],
 "metadata": {
  "finalized": {
   "timestamp": 1644478497812,
   "trusted": true
  },
  "kernelspec": {
   "display_name": "clase",
   "language": "python",
   "name": "clase"
  },
  "language_info": {
   "codemirror_mode": {
    "name": "ipython",
    "version": 3
   },
   "file_extension": ".py",
   "mimetype": "text/x-python",
   "name": "python",
   "nbconvert_exporter": "python",
   "pygments_lexer": "ipython3",
   "version": "3.8.8"
  }
 },
 "nbformat": 4,
 "nbformat_minor": 5
}
